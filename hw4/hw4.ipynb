{
 "cells": [
  {
   "cell_type": "code",
   "execution_count": 1,
   "id": "0143ca93",
   "metadata": {},
   "outputs": [],
   "source": [
    "import scipy.io as sio\n",
    "import matplotlib.pyplot as plt\n",
    "import numpy as np"
   ]
  },
  {
   "cell_type": "code",
   "execution_count": 2,
   "id": "22193136",
   "metadata": {
    "scrolled": true
   },
   "outputs": [],
   "source": [
    "import cv2\n",
    "import os\n",
    "import time\n",
    "import math\n",
    "import main_functions as main"
   ]
  },
  {
   "cell_type": "code",
   "execution_count": 3,
   "id": "c101d962",
   "metadata": {},
   "outputs": [],
   "source": [
    "def visualize_confusion_matrix(confusion, accuracy, label_classes, name):\n",
    "    plt.title(\"{}, accuracy = {:.3f}\".format(name, accuracy))\n",
    "    plt.imshow(confusion)\n",
    "    ax, fig = plt.gca(), plt.gcf()\n",
    "    plt.xticks(np.arange(len(label_classes)), label_classes)\n",
    "    plt.yticks(np.arange(len(label_classes)), label_classes)\n",
    "    ax.set_xticks(np.arange(len(label_classes) + 1) - .5, minor=True)\n",
    "    ax.set_yticks(np.arange(len(label_classes) + 1) - .5, minor=True)\n",
    "    ax.tick_params(which=\"minor\", bottom=False, left=False)\n",
    "    plt.show()"
   ]
  },
  {
   "cell_type": "code",
   "execution_count": 4,
   "id": "151f7b1b",
   "metadata": {},
   "outputs": [],
   "source": [
    "mnist_train = sio.loadmat('./mnist_train.mat')\n",
    "mnist_test = sio.loadmat('./mnist_test.mat')\n",
    "im_train, label_train = mnist_train['im_train'], mnist_train['label_train']\n",
    "im_test, label_test = mnist_test['im_test'], mnist_test['label_test']\n",
    "batch_size = 32\n",
    "im_train, im_test = im_train / 255.0, im_test / 255.0"
   ]
  },
  {
   "cell_type": "markdown",
   "id": "1749b065",
   "metadata": {},
   "source": [
    "# SLP Linear"
   ]
  },
  {
   "cell_type": "code",
   "execution_count": 5,
   "id": "a7408e25",
   "metadata": {},
   "outputs": [],
   "source": [
    "def get_mini_batch(im_train, label_train, batch_size):\n",
    "    ## For ease of batching\n",
    "    im_swp = np.swapaxes(im_train,0,1)\n",
    "    lab_swp = np.swapaxes(label_train,0,1)\n",
    "    \n",
    "    ## One hot encoding\n",
    "    oh_lab_swp = []\n",
    "    for lab in lab_swp:\n",
    "        oh = np.zeros(10)\n",
    "        oh[lab] = 1\n",
    "        oh_lab_swp.append(oh)\n",
    "    \n",
    "    seed = 527\n",
    "    np.random.seed(seed)\n",
    "    np.random.shuffle(im_swp)\n",
    "    np.random.seed(seed)\n",
    "    np.random.shuffle(oh_lab_swp)\n",
    "    \n",
    "    mini_batch_x = np.array(np.array_split(im_swp,batch_size))#.reshape((-1,196,32))\n",
    "    mini_batch_y = np.array(np.array_split(oh_lab_swp,batch_size))#.reshape((-1,10,32))\n",
    "    \n",
    "    return mini_batch_x,mini_batch_y"
   ]
  },
  {
   "cell_type": "code",
   "execution_count": 6,
   "id": "20da11fe",
   "metadata": {},
   "outputs": [],
   "source": [
    "def fc(x, w, b):\n",
    "    if len(x.shape) > 1:\n",
    "        x = x.flatten()\n",
    "    y = np.dot(w,x) + b\n",
    "    \n",
    "    return y"
   ]
  },
  {
   "cell_type": "code",
   "execution_count": 7,
   "id": "1eaf7d66",
   "metadata": {},
   "outputs": [],
   "source": [
    "def loss_euclidian(y_tilde, y):\n",
    "    l = np.linalg.norm(y_tilde-y)**2\n",
    "    dl_dy = 2*(y_tilde-y)\n",
    "    \n",
    "    return l, dl_dy"
   ]
  },
  {
   "cell_type": "code",
   "execution_count": 8,
   "id": "f57ff03b",
   "metadata": {},
   "outputs": [],
   "source": [
    "def fc_backward(dl_dy, x, w, b, y):\n",
    "    dl_dx = np.dot(w.T,dl_dy)\n",
    "    dl_dw = np.outer(dl_dy,x)\n",
    "    dl_db = dl_dy\n",
    "\n",
    "    return dl_dx, dl_dw, dl_db"
   ]
  },
  {
   "cell_type": "code",
   "execution_count": 9,
   "id": "46f702fe",
   "metadata": {},
   "outputs": [],
   "source": [
    "def train_slp_linear(mini_batch_x, mini_batch_y):\n",
    "    batch_size,batches,size_img = mini_batch_x.shape\n",
    "    n = 10\n",
    "    m = size_img\n",
    "    lr = 1e-4\n",
    "    dr = 0.9\n",
    "    w = np.random.normal(0, 1, size=(n,m))\n",
    "    b = np.zeros((n))\n",
    "    k = 0\n",
    "\n",
    "    for itr in range(10000):\n",
    "        if itr % 1000 == 0:\n",
    "            lr *= dr\n",
    "\n",
    "        dl_dw = 0\n",
    "        dl_db = 0\n",
    "\n",
    "        for i in range(batch_size):\n",
    "            x = mini_batch_x[:,k][i]\n",
    "            y = mini_batch_y[:,k][i]\n",
    "            \n",
    "            y_tilde = fc(x, w, b)\n",
    "            l,dl_dy = loss_euclidian(y_tilde, y)\n",
    "            dl_dx, dl_dw_n, dl_db_n = fc_backward(dl_dy, x, w, b, y)\n",
    "\n",
    "            dl_dw += dl_dw_n\n",
    "            dl_db += dl_db_n\n",
    "\n",
    "        k += 1\n",
    "        if k >= batches:\n",
    "            k = 0\n",
    "\n",
    "        w -= (lr * dl_dw)\n",
    "        b -= (lr * dl_db)\n",
    "        \n",
    "    return w,b"
   ]
  },
  {
   "cell_type": "code",
   "execution_count": 10,
   "id": "299977bf",
   "metadata": {},
   "outputs": [],
   "source": [
    "#main.main_slp_linear()"
   ]
  },
  {
   "cell_type": "markdown",
   "id": "6e425885",
   "metadata": {},
   "source": [
    "# SLP "
   ]
  },
  {
   "cell_type": "code",
   "execution_count": 11,
   "id": "cfe3a10a",
   "metadata": {},
   "outputs": [],
   "source": [
    "def loss_cross_entropy_softmax(x, y):\n",
    "    def softmax(x):\n",
    "        return np.exp(x) / np.sum(np.exp(x))\n",
    "    \n",
    "    l = -1 * (np.sum(y*np.log(1e-9 + softmax(x))) / len(y))\n",
    "    dl_dy = softmax(x) - y\n",
    "    \n",
    "    return l, dl_dy"
   ]
  },
  {
   "cell_type": "code",
   "execution_count": 12,
   "id": "a521ea4e",
   "metadata": {},
   "outputs": [],
   "source": [
    "def train_slp(mini_batch_x, mini_batch_y):\n",
    "    batch_size,batches,size_img = mini_batch_x.shape\n",
    "    n = 10\n",
    "    m = size_img\n",
    "    lr = 1e-3\n",
    "    dr = 0.9\n",
    "    w = np.random.normal(0, 0.5, size=(n,m))\n",
    "    b = np.zeros((n))\n",
    "    k = 0\n",
    "\n",
    "    for itr in range(10000):\n",
    "        if itr % 1000 == 0:\n",
    "            lr *= dr\n",
    "\n",
    "        dl_dw = 0\n",
    "        dl_db = 0\n",
    "\n",
    "        for i in range(batch_size):\n",
    "            x = mini_batch_x[:,k][i]\n",
    "            y = mini_batch_y[:,k][i]\n",
    "            \n",
    "            fc_out = fc(x, w, b)\n",
    "            l,dl_dy = loss_cross_entropy_softmax(fc_out, y)\n",
    "            dl_dx, dl_dw_n, dl_db_n = fc_backward(dl_dy, x, w, b, y)\n",
    "\n",
    "            dl_dw += dl_dw_n\n",
    "            dl_db += dl_db_n\n",
    "\n",
    "        k += 1\n",
    "        if k >= batches:\n",
    "            k = 0\n",
    "\n",
    "        w -= (lr * dl_dw)\n",
    "        b -= (lr * dl_db)\n",
    "        \n",
    "    return w,b"
   ]
  },
  {
   "cell_type": "code",
   "execution_count": 13,
   "id": "54a56a33",
   "metadata": {},
   "outputs": [],
   "source": [
    "#main.main_slp()"
   ]
  },
  {
   "cell_type": "markdown",
   "id": "c0871524",
   "metadata": {},
   "source": [
    "# MLP"
   ]
  },
  {
   "cell_type": "code",
   "execution_count": 727,
   "id": "3304d211",
   "metadata": {},
   "outputs": [],
   "source": [
    "def relu(x):\n",
    "    return np.maximum(x*1e-2,x)"
   ]
  },
  {
   "cell_type": "code",
   "execution_count": 728,
   "id": "8512ff40",
   "metadata": {},
   "outputs": [],
   "source": [
    "def relu_backward(dl_dy, x, y):\n",
    "    dl_dx = (x > 0).astype(int)\n",
    "    return np.where(dl_dx==0., 0.01, dl_dx)"
   ]
  },
  {
   "cell_type": "code",
   "execution_count": 729,
   "id": "9180ece7",
   "metadata": {},
   "outputs": [],
   "source": [
    "mini_batch_x,mini_batch_y = get_mini_batch(im_train, label_train, batch_size)"
   ]
  },
  {
   "cell_type": "code",
   "execution_count": 730,
   "id": "9503b5a5",
   "metadata": {},
   "outputs": [],
   "source": [
    "import time as t"
   ]
  },
  {
   "cell_type": "code",
   "execution_count": 731,
   "id": "4a654643",
   "metadata": {},
   "outputs": [
    {
     "name": "stdout",
     "output_type": "stream",
     "text": [
      "0.0010027885437011719\n",
      "0\n",
      "29.65001630783081\n",
      "10000\n",
      "29.685959815979004\n",
      "20000\n",
      "29.66893768310547\n",
      "30000\n",
      "29.93994450569153\n",
      "40000\n",
      "29.784934759140015\n",
      "50000\n"
     ]
    }
   ],
   "source": [
    "batch_size,batches,size_img = mini_batch_x.shape\n",
    "n = 10\n",
    "m = size_img\n",
    "lr = 1e-3\n",
    "dr = 0.9\n",
    "w1 = np.random.normal(0, 1, size=(30,196))\n",
    "w2 = np.random.normal(0, 1, size=(10,30))\n",
    "b1 = np.zeros((30))\n",
    "b2 = np.zeros((10))\n",
    "k = 0\n",
    "_ = None\n",
    "\n",
    "st = t.time()\n",
    "\n",
    "for itr in range(60000):\n",
    "\n",
    "    if itr % 1000 == 0: \n",
    "        lr *= dr\n",
    "\n",
    "    if itr % 10000 == 0:\n",
    "        end = t.time()\n",
    "        print(end-st)\n",
    "        st = t.time()\n",
    "        print(itr)\n",
    "\n",
    "    dl_dw_1 = 0\n",
    "    dl_dw_2 = 0\n",
    "    dl_db_1 = 0\n",
    "    dl_db_2 = 0\n",
    "\n",
    "    for i in range(batch_size):\n",
    "        x = mini_batch_x[:,k][i]\n",
    "        y = mini_batch_y[:,k][i]\n",
    "        \n",
    "        ## Forward\n",
    "        fc_1 = fc(x, w1, b1)\n",
    "        relu_ = relu(fc_1)\n",
    "        fc_2 = fc(relu_, w2, b2)\n",
    "        l,dl_dy = loss_cross_entropy_softmax(fc_2, y)\n",
    "        \n",
    "        ## Backward\n",
    "        dl_dx_2, dl_dw_n_2, dl_db_n_2 = fc_backward(dl_dy, relu_, w2, _, _)  \n",
    "        dl_dx_relu = relu_backward(dl_dx_2, fc_1, _)\n",
    "        dl_dx_1, dl_dw_n_1, dl_db_n_1 = fc_backward(dl_dx_relu, x, w1, _, _)\n",
    "\n",
    "        dl_dw_1 += dl_dw_n_1\n",
    "        dl_db_1 += dl_db_n_1\n",
    "        dl_dw_2 += dl_dw_n_2\n",
    "        dl_db_2 += dl_db_n_2\n",
    "\n",
    "    k += 1\n",
    "    if k >= batches:\n",
    "        k = 0\n",
    "\n",
    "    w1 -= (lr * dl_dw_1)\n",
    "    b1 -= (lr * dl_db_1)\n",
    "    w2 -= (lr * dl_dw_2)\n",
    "    b2 -= (lr * dl_db_2)\n"
   ]
  },
  {
   "cell_type": "code",
   "execution_count": 732,
   "id": "28f136d9",
   "metadata": {},
   "outputs": [
    {
     "data": {
      "image/png": "[encoded data removed]",
      "text/plain": [
       "<Figure size 432x288 with 1 Axes>"
      ]
     },
     "metadata": {
      "needs_background": "light"
     },
     "output_type": "display_data"
    }
   ],
   "source": [
    "mnist_train = sio.loadmat('./mnist_train.mat')\n",
    "mnist_test = sio.loadmat('./mnist_test.mat')\n",
    "im_train, label_train = mnist_train['im_train'], mnist_train['label_train']\n",
    "im_test, label_test = mnist_test['im_test'], mnist_test['label_test']\n",
    "batch_size = 32\n",
    "im_train, im_test = im_train / 255.0, im_test / 255.0\n",
    "mini_batch_x, mini_batch_y = get_mini_batch(im_train, label_train, batch_size)\n",
    "#w1, b1, w2, b2 = train_mlp(mini_batch_x, mini_batch_y)\n",
    "sio.savemat('mlp.mat', mdict={'w1': w1, 'b1': b1, 'w2': w2, 'b2': b2})\n",
    "\n",
    "acc = 0\n",
    "confusion = np.zeros((10, 10))\n",
    "num_test = im_test.shape[1]\n",
    "for i in range(num_test):\n",
    "    x = im_test[:, [i]]\n",
    "    pred1 = fc(x, w1, b1)\n",
    "    pred2 = relu(pred1)\n",
    "    y = fc(pred2, w2, b2)\n",
    "    l_pred = np.argmax(y)\n",
    "    confusion[l_pred, label_test[0, i]] = confusion[l_pred, label_test[0, i]] + 1\n",
    "\n",
    "    if l_pred == label_test[0, i]:\n",
    "        acc = acc + 1\n",
    "accuracy = acc / num_test\n",
    "for i in range(10):\n",
    "    confusion[:, i] = confusion[:, i] / np.sum(confusion[:, i])\n",
    "\n",
    "label_classes = ['0', '1', '2', '3', '4', '5', '6', '7', '8', '9']\n",
    "visualize_confusion_matrix(confusion, accuracy, label_classes, 'Multi-layer Perceptron Confusion Matrix')"
   ]
  },
  {
   "cell_type": "markdown",
   "id": "1375d414",
   "metadata": {},
   "source": [
    "# CNN"
   ]
  },
  {
   "cell_type": "code",
   "execution_count": 468,
   "id": "e41a8129",
   "metadata": {},
   "outputs": [],
   "source": [
    "## Copied from \n",
    "## https://leonardoaraujosantos.gitbook.io/artificial-inteligence\n",
    "## /machine_learning/deep_learning/convolution_layer/making_faster#im2col-and-col2im-sources-in-python\n",
    "def im2col(x,hh,ww,stride):\n",
    "    \"\"\"\n",
    "    Args:\n",
    "      x: image matrix to be translated into columns, (C,H,W)\n",
    "      hh: filter height\n",
    "      ww: filter width\n",
    "      stride: stride\n",
    "    Returns:\n",
    "      col: (new_h*new_w,hh*ww*C) matrix, each column is a cube that will convolve with a filter\n",
    "            new_h = (H-hh) // stride + 1, new_w = (W-ww) // stride + 1\n",
    "    \"\"\"\n",
    "    c,h,w = x.shape\n",
    "    new_h = (h-hh) // stride + 1\n",
    "    new_w = (w-ww) // stride + 1\n",
    "    col = np.zeros([new_h*new_w,c*hh*ww])\n",
    "    for i in range(new_h):\n",
    "       for j in range(new_w):\n",
    "           patch = x[...,i*stride:i*stride+hh,j*stride:j*stride+ww]\n",
    "           col[i*new_w+j,:] = np.reshape(patch,-1)\n",
    "    return col"
   ]
  },
  {
   "cell_type": "code",
   "execution_count": 469,
   "id": "b09d263f",
   "metadata": {},
   "outputs": [],
   "source": [
    "def conv(x, w_conv, b_conv):\n",
    "    x = np.array([np.pad(x.reshape((14,14)),1,'constant')])\n",
    "    X = im2col(x,3,3,1)\n",
    "    y = X.dot(w_conv.reshape(9,-1)) + b_conv.reshape(3)\n",
    "\n",
    "    return y.reshape(14,14,-1)"
   ]
  },
  {
   "cell_type": "code",
   "execution_count": 548,
   "id": "666b8bdc",
   "metadata": {},
   "outputs": [],
   "source": [
    "def conv_backward(dl_dy, x, w_conv, b_conv, y):\n",
    "    ## Assuming x is result from conv layer \n",
    "    dl_db = np.sum(dl_dy.reshape(-1,3),axis=0)\n",
    "    dl_dw = dl_dy * x\n",
    "    \n",
    "    return dl_dw, dl_db"
   ]
  },
  {
   "cell_type": "code",
   "execution_count": 716,
   "id": "55026f38",
   "metadata": {},
   "outputs": [],
   "source": [
    "def pool2x2(x):\n",
    "    out = [[0 for i in range(7)] for i in range(7)]\n",
    "    wk = x.reshape((14,14))\n",
    "    for i in range(0,14,2):\n",
    "        for j in range(0,14,2):\n",
    "            wnd = wk[i:i+2,j:j+2]\n",
    "            out[i//2][j//2] = np.max(wnd)\n",
    "            \n",
    "    return np.array(out).reshape((7,7,1))"
   ]
  },
  {
   "cell_type": "code",
   "execution_count": 717,
   "id": "01b37755",
   "metadata": {},
   "outputs": [],
   "source": [
    "def pool2x2_backward(dl_dy, x, y):\n",
    "    out = [[0 for i in range(14)] for i in range(14)]\n",
    "    wk = x.reshape((14,14))\n",
    "    for i in range(0,14,2):\n",
    "        for j in range(0,14,2):\n",
    "            wnd = wk[i:i+2,j:j+2]\n",
    "            xx,yy = np.unravel_index(wnd.argmax(), wnd.shape)\n",
    "            out[i+xx][j+yy] = np.max(wnd)\n",
    "            \n",
    "    return np.array(out)"
   ]
  },
  {
   "cell_type": "code",
   "execution_count": 726,
   "id": "61af3cce",
   "metadata": {},
   "outputs": [],
   "source": [
    "def flattening(x):\n",
    "    return np.ravel(x, order='F')"
   ]
  },
  {
   "cell_type": "code",
   "execution_count": 734,
   "id": "956aae83",
   "metadata": {},
   "outputs": [],
   "source": [
    "def flattening_backward(dl_dy, x, y):\n",
    "    return None"
   ]
  },
  {
   "cell_type": "code",
   "execution_count": 719,
   "id": "e0e7bbd3",
   "metadata": {},
   "outputs": [],
   "source": [
    "h,w,c1,c2 = 14,14,1,3\n",
    "x = np.random.normal(0,1,size=(h,w,c1))\n",
    "w_conv = np.random.normal(1,0.1,size=(3,3,1,3))\n",
    "b_conv = np.random.normal(0,0.1,size=(c2,1))\n",
    "\n",
    "y = conv(x, w_conv, b_conv)\n",
    "l,dl_dy = loss_cross_entropy_softmax(x,y)\n",
    "dl_dw, dl_db = conv_backward(dl_dy, x, w_conv, b_conv, y)\n",
    "pool = pool2x2(x)\n",
    "back = pool2x2_backward(dl_dy, x, y)"
   ]
  },
  {
   "cell_type": "code",
   "execution_count": null,
   "id": "384315bb",
   "metadata": {},
   "outputs": [],
   "source": [
    "mini_batch_x,mini_batch_y = get_mini_batch(im_train, label_train, batch_size)"
   ]
  },
  {
   "cell_type": "code",
   "execution_count": null,
   "id": "d0615f6b",
   "metadata": {},
   "outputs": [],
   "source": [
    "batch_size,batches,size_img = mini_batch_x.shape\n",
    "n = 10\n",
    "m = size_img\n",
    "lr = 1e-3\n",
    "dr = 0.9\n",
    "h,w,c1,c2 = 14,14,1,3\n",
    "w_conv = np.random.normal(0,0.1,size=(3,3,1,3))\n",
    "b_conv = np.random.normal(0,0.1,size=(c2,1))\n",
    "w_fc = np.random.normal(0,0.1,size=(10,147))\n",
    "b_fc = np.random.normal(0,0.1,size=(10,1))\n",
    "k = 0\n",
    "_ = None\n",
    "\n",
    "st = t.time()\n",
    "\n",
    "for itr in range(5000):\n",
    "    if itr % 1000 == 0: \n",
    "        lr *= dr\n",
    "\n",
    "    if itr % 10000 == 0:\n",
    "        end = t.time()\n",
    "        print(end-st)\n",
    "        st = t.time()\n",
    "        print(itr)\n",
    "\n",
    "    dl_dw_1 = 0\n",
    "    dl_dw_2 = 0\n",
    "    dl_db_1 = 0\n",
    "    dl_db_2 = 0\n",
    "\n",
    "    for i in range(batch_size):\n",
    "        x = mini_batch_x[:,k][i]\n",
    "        y = mini_batch_y[:,k][i]\n",
    "        \n",
    "        ## Forward\n",
    "        conv_1 = conv(x, w_conv, b_conv)\n",
    "        relu_1 = relu(conv_1)\n",
    "        pooled = pool2x2(relu_1)\n",
    "        flattened = flattening(pooled)\n",
    "        fc_1 = fc(flattened, w_fc, b_fc)\n",
    "        l,dl_dy = loss_cross_entropy_softmax(fc_1,y)\n",
    "        \n",
    "        ## Backward\n",
    "        dl_dx_2, dl_dw_n_2, dl_db_n_2 = fc_backward(dl_dy, flattened, w_fc, b_fc, y)  \n",
    "        dl_dx_1 = flattening_backward(dl_dy, pooled, y)\n",
    "        pool_back = pool2x2_backward(dl_dy, relu_1, y)\n",
    "        relu_back = relu_backward(dl_dy, conv_1, y)\n",
    "        conv_back = conv_backward(dl_dy, x, w_conv, b_conv, y)\n",
    "        \n",
    "        \n",
    "## TODO\n",
    "\n",
    "    k += 1\n",
    "    if k >= batches:\n",
    "        k = 0\n",
    "\n",
    "## TODO\n"
   ]
  }
 ],
 "metadata": {
  "kernelspec": {
   "display_name": "Python 3",
   "language": "python",
   "name": "python3"
  },
  "language_info": {
   "codemirror_mode": {
    "name": "ipython",
    "version": 3
   },
   "file_extension": ".py",
   "mimetype": "text/x-python",
   "name": "python",
   "nbconvert_exporter": "python",
   "pygments_lexer": "ipython3",
   "version": "3.8.8"
  }
 },
 "nbformat": 4,
 "nbformat_minor": 5
}
