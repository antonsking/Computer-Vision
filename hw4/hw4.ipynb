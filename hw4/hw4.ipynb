{
 "cells": [
  {
   "cell_type": "code",
   "execution_count": 1,
   "id": "0143ca93",
   "metadata": {},
   "outputs": [],
   "source": [
    "import scipy.io as sio\n",
    "import matplotlib.pyplot as plt\n",
    "import numpy as np"
   ]
  },
  {
   "cell_type": "code",
   "execution_count": 2,
   "id": "22193136",
   "metadata": {
    "scrolled": true
   },
   "outputs": [],
   "source": [
    "import cv2\n",
    "import os\n",
    "import time\n",
    "import math\n",
    "import main_functions as main"
   ]
  },
  {
   "cell_type": "code",
   "execution_count": 3,
   "id": "c101d962",
   "metadata": {},
   "outputs": [],
   "source": [
    "def visualize_confusion_matrix(confusion, accuracy, label_classes, name):\n",
    "    plt.title(\"{}, accuracy = {:.3f}\".format(name, accuracy))\n",
    "    plt.imshow(confusion)\n",
    "    ax, fig = plt.gca(), plt.gcf()\n",
    "    plt.xticks(np.arange(len(label_classes)), label_classes)\n",
    "    plt.yticks(np.arange(len(label_classes)), label_classes)\n",
    "    ax.set_xticks(np.arange(len(label_classes) + 1) - .5, minor=True)\n",
    "    ax.set_yticks(np.arange(len(label_classes) + 1) - .5, minor=True)\n",
    "    ax.tick_params(which=\"minor\", bottom=False, left=False)\n",
    "    plt.show()"
   ]
  },
  {
   "cell_type": "code",
   "execution_count": 4,
   "id": "151f7b1b",
   "metadata": {},
   "outputs": [],
   "source": [
    "mnist_train = sio.loadmat('./mnist_train.mat')\n",
    "mnist_test = sio.loadmat('./mnist_test.mat')\n",
    "im_train, label_train = mnist_train['im_train'], mnist_train['label_train']\n",
    "im_test, label_test = mnist_test['im_test'], mnist_test['label_test']\n",
    "batch_size = 32\n",
    "im_train, im_test = im_train / 255.0, im_test / 255.0"
   ]
  },
  {
   "cell_type": "markdown",
   "id": "1749b065",
   "metadata": {},
   "source": [
    "# SLP Linear"
   ]
  },
  {
   "cell_type": "code",
   "execution_count": 5,
   "id": "a7408e25",
   "metadata": {},
   "outputs": [],
   "source": [
    "def get_mini_batch(im_train, label_train, batch_size):\n",
    "    ## For ease of batching\n",
    "    im_swp = np.swapaxes(im_train,0,1)\n",
    "    lab_swp = np.swapaxes(label_train,0,1)\n",
    "    \n",
    "    ## One hot encoding\n",
    "    oh_lab_swp = []\n",
    "    for lab in lab_swp:\n",
    "        oh = np.zeros(10)\n",
    "        oh[lab] = 1\n",
    "        oh_lab_swp.append(oh)\n",
    "    \n",
    "    seed = 527\n",
    "    np.random.seed(seed)\n",
    "    np.random.shuffle(im_swp)\n",
    "    np.random.seed(seed)\n",
    "    np.random.shuffle(oh_lab_swp)\n",
    "    \n",
    "    mini_batch_x = np.array(np.array_split(im_swp,batch_size))#.reshape((-1,196,32))\n",
    "    mini_batch_y = np.array(np.array_split(oh_lab_swp,batch_size))#.reshape((-1,10,32))\n",
    "    \n",
    "    return mini_batch_x,mini_batch_y"
   ]
  },
  {
   "cell_type": "code",
   "execution_count": 6,
   "id": "20da11fe",
   "metadata": {},
   "outputs": [],
   "source": [
    "def fc(x, w, b):\n",
    "    if len(x.shape) > 1:\n",
    "        x = x.flatten()\n",
    "    y = np.dot(w,x) + b\n",
    "    \n",
    "    return y"
   ]
  },
  {
   "cell_type": "code",
   "execution_count": 7,
   "id": "1eaf7d66",
   "metadata": {},
   "outputs": [],
   "source": [
    "def loss_euclidian(y_tilde, y):\n",
    "    l = np.linalg.norm(y_tilde-y)**2\n",
    "    dl_dy = 2*(y_tilde-y)\n",
    "    \n",
    "    return l, dl_dy"
   ]
  },
  {
   "cell_type": "code",
   "execution_count": 8,
   "id": "f57ff03b",
   "metadata": {},
   "outputs": [],
   "source": [
    "def fc_backward(dl_dy, x, w, b, y):\n",
    "    dl_dx = np.dot(w.T,dl_dy)\n",
    "    dl_dw = np.outer(dl_dy,x)\n",
    "    dl_db = dl_dy\n",
    "\n",
    "    return dl_dx, dl_dw, dl_db"
   ]
  },
  {
   "cell_type": "code",
   "execution_count": 9,
   "id": "46f702fe",
   "metadata": {},
   "outputs": [],
   "source": [
    "def train_slp_linear(mini_batch_x, mini_batch_y):\n",
    "    batch_size,batches,size_img = mini_batch_x.shape\n",
    "    n = 10\n",
    "    m = size_img\n",
    "    lr = 1e-4\n",
    "    dr = 0.9\n",
    "    w = np.random.normal(0, 1, size=(n,m))\n",
    "    b = np.zeros((n))\n",
    "    k = 0\n",
    "\n",
    "    for itr in range(10000):\n",
    "        if itr % 1000 == 0:\n",
    "            lr *= dr\n",
    "\n",
    "        dl_dw = 0\n",
    "        dl_db = 0\n",
    "\n",
    "        for i in range(batch_size):\n",
    "            x = mini_batch_x[:,k][i]\n",
    "            y = mini_batch_y[:,k][i]\n",
    "            \n",
    "            y_tilde = fc(x, w, b)\n",
    "            l,dl_dy = loss_euclidian(y_tilde, y)\n",
    "            dl_dx, dl_dw_n, dl_db_n = fc_backward(dl_dy, x, w, b, y)\n",
    "\n",
    "            dl_dw += dl_dw_n\n",
    "            dl_db += dl_db_n\n",
    "\n",
    "        k += 1\n",
    "        if k >= batches:\n",
    "            k = 0\n",
    "\n",
    "        w -= (lr * dl_dw)\n",
    "        b -= (lr * dl_db)\n",
    "        \n",
    "    return w,b"
   ]
  },
  {
   "cell_type": "code",
   "execution_count": 10,
   "id": "299977bf",
   "metadata": {},
   "outputs": [],
   "source": [
    "#main.main_slp_linear()"
   ]
  },
  {
   "cell_type": "markdown",
   "id": "6e425885",
   "metadata": {},
   "source": [
    "# SLP "
   ]
  },
  {
   "cell_type": "code",
   "execution_count": 11,
   "id": "cfe3a10a",
   "metadata": {},
   "outputs": [],
   "source": [
    "def loss_cross_entropy_softmax(x, y):\n",
    "    def softmax(x):\n",
    "        return np.exp(x) / np.sum(np.exp(x))\n",
    "\n",
    "    l = -1 * (np.sum(y*np.log(1e-9 + softmax(x))) / len(y))\n",
    "    dl_dy = softmax(x) - y\n",
    "    \n",
    "    return l, dl_dy"
   ]
  },
  {
   "cell_type": "code",
   "execution_count": 12,
   "id": "a521ea4e",
   "metadata": {},
   "outputs": [],
   "source": [
    "def train_slp(mini_batch_x, mini_batch_y):\n",
    "    batch_size,batches,size_img = mini_batch_x.shape\n",
    "    n = 10\n",
    "    m = size_img\n",
    "    lr = 1e-3\n",
    "    dr = 0.9\n",
    "    w = np.random.normal(0, 0.5, size=(n,m))\n",
    "    b = np.zeros((n))\n",
    "    k = 0\n",
    "\n",
    "    for itr in range(10000):\n",
    "        if itr % 1000 == 0:\n",
    "            lr *= dr\n",
    "\n",
    "        dl_dw = 0\n",
    "        dl_db = 0\n",
    "\n",
    "        for i in range(batch_size):\n",
    "            x = mini_batch_x[:,k][i]\n",
    "            y = mini_batch_y[:,k][i]\n",
    "            \n",
    "            fc_out = fc(x, w, b)\n",
    "            l,dl_dy = loss_cross_entropy_softmax(fc_out, y)\n",
    "            dl_dx, dl_dw_n, dl_db_n = fc_backward(dl_dy, x, w, b, y)\n",
    "\n",
    "            dl_dw += dl_dw_n\n",
    "            dl_db += dl_db_n\n",
    "\n",
    "        k += 1\n",
    "        if k >= batches:\n",
    "            k = 0\n",
    "\n",
    "        w -= (lr * dl_dw)\n",
    "        b -= (lr * dl_db)\n",
    "        \n",
    "    return w,b"
   ]
  },
  {
   "cell_type": "code",
   "execution_count": 13,
   "id": "54a56a33",
   "metadata": {},
   "outputs": [],
   "source": [
    "#main.main_slp()"
   ]
  },
  {
   "cell_type": "markdown",
   "id": "c0871524",
   "metadata": {},
   "source": [
    "# MLP"
   ]
  },
  {
   "cell_type": "code",
   "execution_count": 14,
   "id": "b6e94431",
   "metadata": {},
   "outputs": [],
   "source": [
    "def frelu(x):\n",
    "    return np.maximum(0,x)"
   ]
  },
  {
   "cell_type": "code",
   "execution_count": 15,
   "id": "3304d211",
   "metadata": {},
   "outputs": [],
   "source": [
    "def relu(x):\n",
    "    return np.maximum(x*1e-2,x)"
   ]
  },
  {
   "cell_type": "code",
   "execution_count": 16,
   "id": "0f587f63",
   "metadata": {},
   "outputs": [],
   "source": [
    "def frelu_backward(dl_dy, x, y):\n",
    "    dl_dx = (dl_dy > 0).astype(int)\n",
    "    return np.where(dl_dx==0, 0.0, dl_dx)"
   ]
  },
  {
   "cell_type": "code",
   "execution_count": 17,
   "id": "8512ff40",
   "metadata": {},
   "outputs": [],
   "source": [
    "def relu_backward(dl_dy, x, y):\n",
    "    dl_dx = (dl_dy > 0).astype(int)\n",
    "    return np.where(dl_dx==0, 0.01, dl_dx)"
   ]
  },
  {
   "cell_type": "code",
   "execution_count": 18,
   "id": "9180ece7",
   "metadata": {},
   "outputs": [],
   "source": [
    "mini_batch_x,mini_batch_y = get_mini_batch(im_train, label_train, batch_size)"
   ]
  },
  {
   "cell_type": "code",
   "execution_count": 19,
   "id": "9503b5a5",
   "metadata": {},
   "outputs": [],
   "source": [
    "import time as t"
   ]
  },
  {
   "cell_type": "code",
   "execution_count": 20,
   "id": "4a654643",
   "metadata": {},
   "outputs": [
    {
     "name": "stdout",
     "output_type": "stream",
     "text": [
      "0.0\n",
      "0\n",
      "30.383376121520996\n",
      "10000\n",
      "60.88578200340271\n",
      "20000\n",
      "91.54217576980591\n",
      "30000\n",
      "122.00301933288574\n",
      "40000\n",
      "152.1931619644165\n",
      "50000\n"
     ]
    }
   ],
   "source": [
    "batch_size,batches,size_img = mini_batch_x.shape\n",
    "n = 10\n",
    "m = size_img\n",
    "lr = 1e-3\n",
    "dr = 0.9\n",
    "w1 = np.random.normal(0, 0.5, size=(30,196))\n",
    "w2 = np.random.normal(0, 0.5, size=(10,30))\n",
    "b1 = np.zeros((30))\n",
    "b2 = np.zeros((10))\n",
    "k = 0\n",
    "_ = None\n",
    "\n",
    "st = t.time()\n",
    "\n",
    "for itr in range(60000):\n",
    "\n",
    "    if itr % 1000 == 0: \n",
    "        lr *= dr\n",
    "\n",
    "    if itr % 10000 == 0:\n",
    "        end = t.time()\n",
    "        print(end-st)\n",
    "        print(itr)\n",
    "\n",
    "    dl_dw_1 = 0\n",
    "    dl_dw_2 = 0\n",
    "    dl_db_1 = 0\n",
    "    dl_db_2 = 0\n",
    "\n",
    "    for i in range(batch_size):\n",
    "        x = mini_batch_x[:,k][i]\n",
    "        y = mini_batch_y[:,k][i]\n",
    "        \n",
    "        ## Forward\n",
    "        fc_1 = fc(x, w1, b1)\n",
    "        relu_ = relu(fc_1)\n",
    "        fc_2 = fc(relu_, w2, b2)\n",
    "        l,dl_dy = loss_cross_entropy_softmax(fc_2, y)\n",
    "        \n",
    "        ## Backward\n",
    "        dl_dx_2, dl_dw_n_2, dl_db_n_2 = fc_backward(dl_dy, relu_, w2, _, _)\n",
    "        dl_dx_relu = relu_backward(dl_dx_2, _, _)\n",
    "        dl_dx_1, dl_dw_n_1, dl_db_n_1 = fc_backward(dl_dx_relu, x, w1, _, _)\n",
    "\n",
    "        dl_dw_1 += dl_dw_n_1\n",
    "        dl_db_1 += dl_db_n_1\n",
    "        dl_dw_2 += dl_dw_n_2\n",
    "        dl_db_2 += dl_db_n_2\n",
    "\n",
    "    k += 1\n",
    "    if k >= batches:\n",
    "        k = 0\n",
    "\n",
    "    w1 -= (lr * dl_dw_1)\n",
    "    b1 -= (lr * dl_db_1)\n",
    "    w2 -= (lr * dl_dw_2)\n",
    "    b2 -= (lr * dl_db_2)\n"
   ]
  },
  {
   "cell_type": "code",
   "execution_count": null,
   "id": "b7ec0600",
   "metadata": {},
   "outputs": [],
   "source": []
  },
  {
   "cell_type": "code",
   "execution_count": 21,
   "id": "28f136d9",
   "metadata": {},
   "outputs": [
    {
     "data": {
      "image/png": "[encoded data removed]",
      "text/plain": [
       "<Figure size 432x288 with 1 Axes>"
      ]
     },
     "metadata": {
      "needs_background": "light"
     },
     "output_type": "display_data"
    }
   ],
   "source": [
    "mnist_train = sio.loadmat('./mnist_train.mat')\n",
    "mnist_test = sio.loadmat('./mnist_test.mat')\n",
    "im_train, label_train = mnist_train['im_train'], mnist_train['label_train']\n",
    "im_test, label_test = mnist_test['im_test'], mnist_test['label_test']\n",
    "batch_size = 32\n",
    "im_train, im_test = im_train / 255.0, im_test / 255.0\n",
    "mini_batch_x, mini_batch_y = get_mini_batch(im_train, label_train, batch_size)\n",
    "#w1, b1, w2, b2 = train_mlp(mini_batch_x, mini_batch_y)\n",
    "sio.savemat('mlp.mat', mdict={'w1': w1, 'b1': b1, 'w2': w2, 'b2': b2})\n",
    "\n",
    "acc = 0\n",
    "confusion = np.zeros((10, 10))\n",
    "num_test = im_test.shape[1]\n",
    "for i in range(num_test):\n",
    "    x = im_test[:, [i]]\n",
    "    pred1 = fc(x, w1, b1)\n",
    "    pred2 = relu(pred1)\n",
    "    y = fc(pred2, w2, b2)\n",
    "    l_pred = np.argmax(y)\n",
    "    confusion[l_pred, label_test[0, i]] = confusion[l_pred, label_test[0, i]] + 1\n",
    "\n",
    "    if l_pred == label_test[0, i]:\n",
    "        acc = acc + 1\n",
    "accuracy = acc / num_test\n",
    "for i in range(10):\n",
    "    confusion[:, i] = confusion[:, i] / np.sum(confusion[:, i])\n",
    "\n",
    "label_classes = ['0', '1', '2', '3', '4', '5', '6', '7', '8', '9']\n",
    "visualize_confusion_matrix(confusion, accuracy, label_classes, 'Multi-layer Perceptron Confusion Matrix')"
   ]
  },
  {
   "cell_type": "code",
   "execution_count": null,
   "id": "1528d5be",
   "metadata": {},
   "outputs": [],
   "source": []
  }
 ],
 "metadata": {
  "kernelspec": {
   "display_name": "Python 3",
   "language": "python",
   "name": "python3"
  },
  "language_info": {
   "codemirror_mode": {
    "name": "ipython",
    "version": 3
   },
   "file_extension": ".py",
   "mimetype": "text/x-python",
   "name": "python",
   "nbconvert_exporter": "python",
   "pygments_lexer": "ipython3",
   "version": "3.8.8"
  }
 },
 "nbformat": 4,
 "nbformat_minor": 5
}
