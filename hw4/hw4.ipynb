{
 "cells": [
  {
   "cell_type": "code",
   "execution_count": 1,
   "id": "0143ca93",
   "metadata": {},
   "outputs": [],
   "source": [
    "import scipy.io as sio\n",
    "import matplotlib.pyplot as plt\n",
    "import numpy as np"
   ]
  },
  {
   "cell_type": "code",
   "execution_count": 2,
   "id": "22193136",
   "metadata": {
    "scrolled": true
   },
   "outputs": [],
   "source": [
    "import cv2\n",
    "import os\n",
    "import time\n",
    "import math\n",
    "import main_functions as main"
   ]
  },
  {
   "cell_type": "markdown",
   "id": "1749b065",
   "metadata": {},
   "source": [
    "# SLM Linear"
   ]
  },
  {
   "cell_type": "code",
   "execution_count": 3,
   "id": "fa0d11a8",
   "metadata": {},
   "outputs": [],
   "source": [
    "mnist_train = sio.loadmat('./mnist_train.mat')\n",
    "mnist_test = sio.loadmat('./mnist_test.mat')\n",
    "im_train, label_train = mnist_train['im_train'], mnist_train['label_train']\n",
    "im_test, label_test = mnist_test['im_test'], mnist_test['label_test']\n",
    "batch_size = 32\n",
    "im_train, im_test = im_train / 255.0, im_test / 255.0"
   ]
  },
  {
   "cell_type": "code",
   "execution_count": 4,
   "id": "a7408e25",
   "metadata": {},
   "outputs": [],
   "source": [
    "def get_mini_batch(im_train, label_train, batch_size):\n",
    "    ## For ease of batching\n",
    "    im_swp = np.swapaxes(im_train,0,1)\n",
    "    lab_swp = np.swapaxes(label_train,0,1)\n",
    "    \n",
    "    ## One hot encoding\n",
    "    oh_lab_swp = []\n",
    "    for lab in lab_swp:\n",
    "        oh = np.zeros(10)\n",
    "        oh[lab] = 1\n",
    "        oh_lab_swp.append(oh)\n",
    "        \n",
    "    np.random.shuffle(im_swp)\n",
    "    np.random.shuffle(oh_lab_swp)\n",
    "    \n",
    "    mini_batch_x = np.array(np.array_split(im_swp,batch_size))#.reshape((-1,196,32))\n",
    "    mini_batch_y = np.array(np.array_split(oh_lab_swp,batch_size))#.reshape((-1,10,32))\n",
    "    \n",
    "    return mini_batch_x,mini_batch_y"
   ]
  },
  {
   "cell_type": "code",
   "execution_count": 5,
   "id": "2123deb7",
   "metadata": {},
   "outputs": [],
   "source": [
    "def fc(x, w, b):\n",
    "    y = w @ x + b\n",
    "    return y"
   ]
  },
  {
   "cell_type": "code",
   "execution_count": 6,
   "id": "1eaf7d66",
   "metadata": {},
   "outputs": [],
   "source": [
    "def loss_euclidian(y_tilde, y):\n",
    "    l = np.linalg.norm(y_tilde-y)**2\n",
    "    dl_dy = 2 * (y_tilde-y)\n",
    "    return l, dl_dy"
   ]
  },
  {
   "cell_type": "code",
   "execution_count": 7,
   "id": "f57ff03b",
   "metadata": {},
   "outputs": [],
   "source": [
    "def fc_backward(dl_dy, x, w, b, y):\n",
    "    dl_dx = np.dot(w.T,dl_dy)\n",
    "    dl_dw = np.outer(dl_dy,x)\n",
    "    dl_db = y-dl_dy\n",
    "    return dl_dx, dl_dw, dl_db"
   ]
  },
  {
   "cell_type": "code",
   "execution_count": 8,
   "id": "031d560a",
   "metadata": {},
   "outputs": [],
   "source": [
    "mini_batch_x,mini_batch_y = get_mini_batch(im_train, label_train, batch_size)"
   ]
  },
  {
   "cell_type": "code",
   "execution_count": 9,
   "id": "e1d145c9",
   "metadata": {},
   "outputs": [
    {
     "name": "stdout",
     "output_type": "stream",
     "text": [
      "(32, 375, 196)\n",
      "(32, 375, 10)\n"
     ]
    }
   ],
   "source": [
    "print(mini_batch_x.shape)\n",
    "print(mini_batch_y.shape)"
   ]
  },
  {
   "cell_type": "code",
   "execution_count": 10,
   "id": "7dfd537f",
   "metadata": {},
   "outputs": [],
   "source": [
    "batches,imgs,size_img = mini_batch_x.shape\n",
    "n = 10\n",
    "m = size_img"
   ]
  },
  {
   "cell_type": "code",
   "execution_count": 11,
   "id": "84a3f182",
   "metadata": {},
   "outputs": [],
   "source": [
    "lr = 0.1\n",
    "dr = np.random.random(1)[0] + 1e-5\n",
    "w = np.random.normal(0, 1, size=(n,m))\n",
    "b = np.random.normal(0,0.1,size=n)\n",
    "k = 0"
   ]
  },
  {
   "cell_type": "code",
   "execution_count": 12,
   "id": "11a5286e",
   "metadata": {
    "scrolled": true
   },
   "outputs": [
    {
     "name": "stderr",
     "output_type": "stream",
     "text": [
      "<ipython-input-12-a35dc5722d1b>:14: RuntimeWarning: overflow encountered in add\n",
      "  dl_db += dl_db_n\n",
      "<ipython-input-12-a35dc5722d1b>:13: RuntimeWarning: overflow encountered in add\n",
      "  dl_dw += dl_dw_n\n",
      "<ipython-input-5-e90edc39b0c2>:2: RuntimeWarning: invalid value encountered in matmul\n",
      "  y = w @ x + b\n"
     ]
    }
   ],
   "source": [
    "for itr in range(4000):\n",
    "    if itr % 1000 == 0:\n",
    "        lr *= dr\n",
    "        \n",
    "    dl_dw = 0\n",
    "    dl_db = 0\n",
    "    \n",
    "    for i,x in enumerate(mini_batch_x[k]):\n",
    "        y = mini_batch_y[k][i]\n",
    "        y_tilde = fc(x, w, b)\n",
    "        l,dl_dy = loss_euclidian(y_tilde, y)\n",
    "        dl_dx, dl_dw_n, dl_db_n = fc_backward(dl_dy, x, w, b, y)\n",
    "        dl_dw += dl_dw_n\n",
    "        dl_db += dl_db_n\n",
    "        \n",
    "    k += 1\n",
    "    if k >= batches:\n",
    "        k = 0\n",
    "    w -= (lr * dl_dw)\n",
    "    b -= (lr * dl_db)"
   ]
  },
  {
   "cell_type": "code",
   "execution_count": null,
   "id": "2a024d2c",
   "metadata": {},
   "outputs": [],
   "source": [
    "print(w.shape)"
   ]
  },
  {
   "cell_type": "code",
   "execution_count": null,
   "id": "ba4d877c",
   "metadata": {},
   "outputs": [],
   "source": []
  },
  {
   "cell_type": "code",
   "execution_count": null,
   "id": "fe9d5c2f",
   "metadata": {},
   "outputs": [],
   "source": []
  },
  {
   "cell_type": "code",
   "execution_count": 14,
   "id": "0fbf496f",
   "metadata": {},
   "outputs": [
    {
     "ename": "NameError",
     "evalue": "name 'train_slp_linear' is not defined",
     "output_type": "error",
     "traceback": [
      "\u001b[0;31m---------------------------------------------------------------------------\u001b[0m",
      "\u001b[0;31mNameError\u001b[0m                                 Traceback (most recent call last)",
      "\u001b[0;32m<ipython-input-14-4fd610a79daa>\u001b[0m in \u001b[0;36m<module>\u001b[0;34m\u001b[0m\n\u001b[1;32m      1\u001b[0m \u001b[0mmini_batch_x\u001b[0m\u001b[0;34m,\u001b[0m \u001b[0mmini_batch_y\u001b[0m \u001b[0;34m=\u001b[0m \u001b[0mget_mini_batch\u001b[0m\u001b[0;34m(\u001b[0m\u001b[0mim_train\u001b[0m\u001b[0;34m,\u001b[0m \u001b[0mlabel_train\u001b[0m\u001b[0;34m,\u001b[0m \u001b[0mbatch_size\u001b[0m\u001b[0;34m)\u001b[0m\u001b[0;34m\u001b[0m\u001b[0;34m\u001b[0m\u001b[0m\n\u001b[0;32m----> 2\u001b[0;31m \u001b[0mw\u001b[0m\u001b[0;34m,\u001b[0m \u001b[0mb\u001b[0m \u001b[0;34m=\u001b[0m \u001b[0mtrain_slp_linear\u001b[0m\u001b[0;34m(\u001b[0m\u001b[0mmini_batch_x\u001b[0m\u001b[0;34m,\u001b[0m \u001b[0mmini_batch_y\u001b[0m\u001b[0;34m)\u001b[0m\u001b[0;34m\u001b[0m\u001b[0;34m\u001b[0m\u001b[0m\n\u001b[0m\u001b[1;32m      3\u001b[0m \u001b[0msio\u001b[0m\u001b[0;34m.\u001b[0m\u001b[0msavemat\u001b[0m\u001b[0;34m(\u001b[0m\u001b[0;34m'slp_linear.mat'\u001b[0m\u001b[0;34m,\u001b[0m \u001b[0mmdict\u001b[0m\u001b[0;34m=\u001b[0m\u001b[0;34m{\u001b[0m\u001b[0;34m'w'\u001b[0m\u001b[0;34m:\u001b[0m \u001b[0mw\u001b[0m\u001b[0;34m,\u001b[0m \u001b[0;34m'b'\u001b[0m\u001b[0;34m:\u001b[0m \u001b[0mb\u001b[0m\u001b[0;34m}\u001b[0m\u001b[0;34m)\u001b[0m\u001b[0;34m\u001b[0m\u001b[0;34m\u001b[0m\u001b[0m\n\u001b[1;32m      4\u001b[0m \u001b[0;34m\u001b[0m\u001b[0m\n\u001b[1;32m      5\u001b[0m \u001b[0macc\u001b[0m \u001b[0;34m=\u001b[0m \u001b[0;36m0\u001b[0m\u001b[0;34m\u001b[0m\u001b[0;34m\u001b[0m\u001b[0m\n",
      "\u001b[0;31mNameError\u001b[0m: name 'train_slp_linear' is not defined"
     ]
    }
   ],
   "source": [
    "mini_batch_x, mini_batch_y = get_mini_batch(im_train, label_train, batch_size)\n",
    "w, b = train_slp_linear(mini_batch_x, mini_batch_y)\n",
    "sio.savemat('slp_linear.mat', mdict={'w': w, 'b': b})\n",
    "\n",
    "acc = 0\n",
    "confusion = np.zeros((10, 10))\n",
    "num_test = im_test.shape[1]\n",
    "for i in range(num_test):\n",
    "    x = im_test[:, [i]]\n",
    "    y = fc(x, w, b)\n",
    "    l_pred = np.argmax(y)\n",
    "    confusion[l_pred, label_test[0, i]] = confusion[l_pred, label_test[0, i]] + 1\n",
    "\n",
    "    if l_pred == label_test[0, i]:\n",
    "        acc = acc + 1\n",
    "accuracy = acc / num_test\n",
    "for i in range(10):\n",
    "    confusion[:, i] = confusion[:, i] / np.sum(confusion[:, i])\n",
    "\n",
    "label_classes = ['0', '1', '2', '3', '4', '5', '6', '7', '8', '9']\n",
    "visualize_confusion_matrix(confusion, accuracy, label_classes, 'Single-layer Linear Perceptron Confusion Matrix')"
   ]
  },
  {
   "cell_type": "code",
   "execution_count": null,
   "id": "1967faf1",
   "metadata": {},
   "outputs": [],
   "source": []
  },
  {
   "cell_type": "code",
   "execution_count": null,
   "id": "5828d384",
   "metadata": {},
   "outputs": [],
   "source": []
  }
 ],
 "metadata": {
  "kernelspec": {
   "display_name": "Python 3",
   "language": "python",
   "name": "python3"
  },
  "language_info": {
   "codemirror_mode": {
    "name": "ipython",
    "version": 3
   },
   "file_extension": ".py",
   "mimetype": "text/x-python",
   "name": "python",
   "nbconvert_exporter": "python",
   "pygments_lexer": "ipython3",
   "version": "3.8.8"
  }
 },
 "nbformat": 4,
 "nbformat_minor": 5
}
