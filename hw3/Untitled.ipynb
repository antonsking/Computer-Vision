{
 "cells": [
  {
   "cell_type": "code",
   "execution_count": 4,
   "id": "d05ff24d",
   "metadata": {},
   "outputs": [],
   "source": [
    "import os\n",
    "import numpy as np\n",
    "import cv2\n",
    "import matplotlib.pyplot as plt\n",
    "from sklearn.neighbors import NearestNeighbors\n",
    "from sklearn.cluster import KMeans\n",
    "from sklearn.svm import LinearSVC\n",
    "from scipy import stats\n",
    "from pathlib import Path, PureWindowsPath"
   ]
  },
  {
   "cell_type": "code",
   "execution_count": 236,
   "id": "02851771",
   "metadata": {},
   "outputs": [],
   "source": [
    "%matplotlib inline"
   ]
  },
  {
   "cell_type": "markdown",
   "id": "b15dcd3f",
   "metadata": {},
   "source": [
    "# Tiny Image KNN"
   ]
  },
  {
   "cell_type": "code",
   "execution_count": 238,
   "id": "f6d9a2dc",
   "metadata": {},
   "outputs": [],
   "source": [
    "def get_tiny_image(img,output_size):\n",
    "    bounder = min([img.shape[0],img.shape[1]])\n",
    "    img = np.resize(img,(bounder,bounder))\n",
    "    w,h = output_size\n",
    "    out = [[] for i in range(w)]\n",
    "    w_bins = img.shape[0] // w\n",
    "    h_bins = img.shape[1] // h\n",
    "\n",
    "    for i,line in enumerate(img):\n",
    "        for j in range(0,img.shape[0]-h_bins+1,h_bins):\n",
    "            out[j//h_bins].append(np.mean(line[j:j+h_bins]))\n",
    "\n",
    "    out2 = [[] for i in range(w)]\n",
    "    for line in out:\n",
    "        for j in range(0,img.shape[1]-w_bins+1,w_bins):\n",
    "            out2[j//w_bins].append(np.mean(line[j:j+w_bins]))\n",
    "\n",
    "\n",
    "    out2 = np.array(out2)\n",
    "    return out2 - np.mean(out2)"
   ]
  },
  {
   "cell_type": "code",
   "execution_count": 239,
   "id": "f828664f",
   "metadata": {},
   "outputs": [],
   "source": [
    "def extract_dataset_info(data_path):\n",
    "    # extract information from train.txt\n",
    "    f = open(os.path.join(data_path, \"train.txt\"), \"r\")\n",
    "    contents_train = f.readlines()\n",
    "    label_classes, label_train_list, img_train_list = [], [], []\n",
    "    for sample in contents_train:\n",
    "        sample = sample.split()\n",
    "        label, img_path = sample[0], sample[1]\n",
    "        if label not in label_classes:\n",
    "            label_classes.append(label)\n",
    "        label_train_list.append(sample[0])\n",
    "        img_train_list.append(os.path.join(data_path, Path(PureWindowsPath(img_path))))\n",
    "    print('Classes: {}'.format(label_classes))\n",
    "\n",
    "    # extract information from test.txt\n",
    "    f = open(os.path.join(data_path, \"test.txt\"), \"r\")\n",
    "    contents_test = f.readlines()\n",
    "    label_test_list, img_test_list = [], []\n",
    "    for sample in contents_test:\n",
    "        sample = sample.split()\n",
    "        label, img_path = sample[0], sample[1]\n",
    "        label_test_list.append(label)\n",
    "        img_test_list.append(os.path.join(data_path, Path(PureWindowsPath(img_path))))  # you can directly use img_path if you run in Windows\n",
    "\n",
    "    return label_classes, label_train_list, img_train_list, label_test_list, img_test_list"
   ]
  },
  {
   "cell_type": "code",
   "execution_count": 240,
   "id": "713a797d",
   "metadata": {
    "scrolled": false
   },
   "outputs": [
    {
     "name": "stdout",
     "output_type": "stream",
     "text": [
      "Classes: ['Kitchen', 'Store', 'Bedroom', 'LivingRoom', 'Office', 'Industrial', 'Suburb', 'InsideCity', 'TallBuilding', 'Street', 'Highway', 'OpenCountry', 'Coast', 'Mountain', 'Forest']\n"
     ]
    }
   ],
   "source": [
    "label_classes, label_train_list, img_train_list, label_test_list, img_test_list = extract_dataset_info('')"
   ]
  },
  {
   "cell_type": "code",
   "execution_count": 241,
   "id": "38fd679e",
   "metadata": {},
   "outputs": [],
   "source": [
    "def predict_knn(feature_train, label_train, feature_test, k=1):\n",
    "    nbrs = NearestNeighbors(n_neighbors=1).fit(feature_train)\n",
    "    indices = nbrs.kneighbors(feature_test)[1]\n",
    "    label_test_pred = np.array(label_train_list)[indices.flatten().astype(int)]\n",
    "    return label_test_pred"
   ]
  },
  {
   "cell_type": "code",
   "execution_count": 248,
   "id": "8839e606",
   "metadata": {},
   "outputs": [],
   "source": [
    "def classify_knn_tiny(label_classes, label_train_list, img_train_list, label_test_list, img_test_list):\n",
    "    feature_train = [cv2.imread(path,0) for path in img_train_list]\n",
    "    label_train = label_train_list\n",
    "    feature_test = [cv2.imread(path,0) for path in img_test_list]\n",
    "    \n",
    "    if os.path.exists('./tiny_train.npy'):\n",
    "        feature_train = np.load('./tiny_train.npy')\n",
    "    else:\n",
    "        feature_train = [get_tiny_image(img,(16,16)).flatten() for img in feature_train]\n",
    "        np.save('tiny_train.npy', feature_train)\n",
    "    \n",
    "    if os.path.exists('./tiny_test.npy'):\n",
    "        feature_test = np.load('./tiny_test.npy')\n",
    "    else:\n",
    "        feature_test = [get_tiny_image(img,(16,16)).flatten() for img in feature_test]\n",
    "        np.save('tiny_test.npy', feature_test)\n",
    "    \n",
    "    preds = predict_knn(feature_train, label_train, feature_test, k=1)\n",
    "    accuracy = sum(preds == np.array(label_test_list)) / len(label_test_list)\n",
    "    \n",
    "    labels_ = dict(zip(range(len(np.unique(label_test_list))), np.unique(label_test_list)))\n",
    "    labels_inv = {v: k for k, v in labels_.items()}\n",
    "    confusion = np.zeros((len(label_classes),len(label_classes)))\n",
    "    for i,lab in enumerate(label_test_list):\n",
    "        i_ = labels_inv[label_test_list[i]]\n",
    "        j_ = labels_inv[preds[i]]\n",
    "        confusion[i_][j_] += 1\n",
    "    \n",
    "    visualize_confusion_matrix(confusion, accuracy, label_classes)\n",
    "    return confusion, accuracy"
   ]
  },
  {
   "cell_type": "code",
   "execution_count": 249,
   "id": "c36b051a",
   "metadata": {},
   "outputs": [],
   "source": [
    "def visualize_confusion_matrix(confusion, accuracy, label_classes):\n",
    "    plt.title(\"accuracy = {:.3f}\".format(accuracy))\n",
    "    plt.imshow(confusion)\n",
    "    ax, fig = plt.gca(), plt.gcf()\n",
    "    plt.xticks(np.arange(len(label_classes)), label_classes)\n",
    "    plt.yticks(np.arange(len(label_classes)), label_classes)\n",
    "    # set horizontal alignment mode (left, right or center) and rotation mode(anchor or default)\n",
    "    plt.setp(ax.get_xticklabels(), rotation=-30, ha=\"center\", rotation_mode=\"default\")\n",
    "    # avoid top and bottom part of heatmap been cut\n",
    "    ax.set_xticks(np.arange(len(label_classes) + 1) - .5, minor=True)\n",
    "    ax.set_yticks(np.arange(len(label_classes) + 1) - .5, minor=True)\n",
    "    ax.tick_params(which=\"minor\", bottom=False, left=False)\n",
    "    fig.tight_layout()\n",
    "    plt.show()"
   ]
  },
  {
   "cell_type": "code",
   "execution_count": 250,
   "id": "b830374a",
   "metadata": {
    "scrolled": true
   },
   "outputs": [
    {
     "data": {
      "image/png": "[encoded data removed]",
      "text/plain": [
       "<Figure size 432x288 with 1 Axes>"
      ]
     },
     "metadata": {
      "needs_background": "light"
     },
     "output_type": "display_data"
    },
    {
     "data": {
      "text/plain": [
       "(array([[12.,  5.,  1.,  2., 14.,  0.,  9.,  4.,  0., 47.,  0.,  5.,  0.,\n",
       "          0.,  1.],\n",
       "        [10., 21.,  1.,  7.,  6.,  0.,  8.,  4.,  2., 19., 12.,  3.,  1.,\n",
       "          4.,  2.],\n",
       "        [14.,  9., 13.,  1.,  8.,  1.,  7.,  7.,  5., 19.,  7.,  3.,  2.,\n",
       "          2.,  2.],\n",
       "        [10., 13.,  0., 51.,  3.,  0.,  0.,  5.,  0.,  9.,  5.,  3.,  0.,\n",
       "          0.,  1.],\n",
       "        [17.,  4.,  0.,  8., 19.,  0.,  3.,  7.,  4., 28.,  1.,  4.,  0.,\n",
       "          4.,  1.],\n",
       "        [13.,  6.,  8.,  4.,  6.,  2.,  9., 12.,  1., 26.,  3.,  3.,  3.,\n",
       "          3.,  1.],\n",
       "        [18., 15.,  2.,  0.,  7.,  0.,  9.,  9.,  0., 30.,  2.,  4.,  2.,\n",
       "          1.,  1.],\n",
       "        [16.,  3.,  0.,  3., 12.,  0., 10., 19.,  0., 31.,  0.,  3.,  1.,\n",
       "          2.,  0.],\n",
       "        [ 9., 11.,  6.,  5., 10.,  5.,  0.,  4., 16., 11., 12.,  3.,  3.,\n",
       "          5.,  0.],\n",
       "        [11.,  0.,  0.,  2., 17.,  0.,  4., 10.,  0., 55.,  1.,  0.,  0.,\n",
       "          0.,  0.],\n",
       "        [11., 18.,  2., 11.,  5.,  1.,  8.,  4.,  0., 19., 14.,  5.,  1.,\n",
       "          1.,  0.],\n",
       "        [20.,  4.,  6.,  0.,  1.,  0.,  5., 14.,  2., 35.,  4.,  7.,  1.,\n",
       "          0.,  1.],\n",
       "        [ 4.,  5., 18.,  7.,  0.,  2.,  0.,  1.,  8.,  5., 10.,  1., 36.,\n",
       "          2.,  1.],\n",
       "        [19.,  2.,  0., 10., 14.,  0.,  4.,  9.,  0., 15.,  3.,  2.,  0.,\n",
       "         22.,  0.],\n",
       "        [ 8., 10.,  7.,  6., 15.,  2.,  5.,  3.,  7., 11.,  5.,  2.,  2.,\n",
       "          3., 14.]]),\n",
       " 0.20666666666666667)"
      ]
     },
     "execution_count": 250,
     "metadata": {},
     "output_type": "execute_result"
    }
   ],
   "source": [
    "classify_knn_tiny(label_classes, label_train_list, img_train_list, label_test_list, img_test_list)"
   ]
  },
  {
   "cell_type": "markdown",
   "id": "a6c3ffe9",
   "metadata": {},
   "source": [
    "# BOW"
   ]
  },
  {
   "cell_type": "code",
   "execution_count": 12,
   "id": "04fd03a6",
   "metadata": {},
   "outputs": [],
   "source": [
    "def compute_dsift(img, stride, size):\n",
    "    sift = cv2.xfeatures2d.SIFT_create()\n",
    "    kps = []\n",
    "    for i in range(0,img.shape[0],stride):\n",
    "        for j in range(0,img.shape[1],stride):\n",
    "            kps.append(cv2.KeyPoint(j,i,size))\n",
    "    dense_feature = sift.compute(img, kps)\n",
    "    return dense_feature[1]\n"
   ]
  },
  {
   "cell_type": "code",
   "execution_count": 13,
   "id": "46f45210",
   "metadata": {},
   "outputs": [],
   "source": [
    "def build_visual_dictionary(dense_feature_list, dic_size):\n",
    "    pool = []\n",
    "    for pic in dense_feature_list:\n",
    "        for n in pic:\n",
    "            pool.append(n)\n",
    "            \n",
    "    kmeans = KMeans(n_clusters=dic_size,n_init=12,max_iter=300)\n",
    "    centers = kmeans.fit(pool)\n",
    "    vocab = centers.cluster_centers_\n",
    "    np.save('vocab.npy', vocab)\n",
    "\n",
    "    return vocab"
   ]
  },
  {
   "cell_type": "code",
   "execution_count": 14,
   "id": "38e84a91",
   "metadata": {},
   "outputs": [],
   "source": [
    "def compute_bow(feature, vocab):\n",
    "    bow = [0 for i in range(vocab.shape[0])]\n",
    "    nbrs = NearestNeighbors(n_neighbors=4).fit(vocab)\n",
    "    for i,feat in enumerate(feature):\n",
    "        bow[nbrs.kneighbors(feat.reshape(1, -1))[1][0][0]] += 1\n",
    "        bow[nbrs.kneighbors(feat.reshape(1, -1))[1][0][1]] += 0.8\n",
    "        bow[nbrs.kneighbors(feat.reshape(1, -1))[1][0][2]] += 0.6\n",
    "        bow[nbrs.kneighbors(feat.reshape(1, -1))[1][0][3]] += 0.4\n",
    "    bow /= np.sum(bow)\n",
    "    \n",
    "    return bow"
   ]
  },
  {
   "cell_type": "code",
   "execution_count": 15,
   "id": "6964da48",
   "metadata": {},
   "outputs": [],
   "source": [
    "import time as t"
   ]
  },
  {
   "cell_type": "code",
   "execution_count": 16,
   "id": "ef88b0c7",
   "metadata": {},
   "outputs": [],
   "source": [
    "def classify_knn_bow(label_classes, label_train_list, img_train_list, label_test_list, img_test_list):\n",
    "    ## 99 second runtime with saved matrices \n",
    "    \n",
    "    feature_train = [cv2.imread(path,0) for path in img_train_list]\n",
    "    feature_test = [cv2.imread(path,0) for path in img_test_list]\n",
    "\n",
    "    stride,size = 15,15\n",
    "    dic_size=64\n",
    "    dense_feature_list_train = None\n",
    "    dense_feature_list_test = None\n",
    "    \n",
    "    if os.path.exists('./vocab.npy'):\n",
    "        vocab = np.load('./vocab.npy')\n",
    "    else:\n",
    "        dense_feature_list_train = [compute_dsift(pic,stride,size) for pic in feature_train]\n",
    "        vocab = build_visual_dictionary(dense_feature_list_train, dic_size)\n",
    "        np.save('vocab.npy', vocab)\n",
    "        \n",
    "    if os.path.exists('./feature_train.npy'):\n",
    "        feature_train = np.load('./feature_train.npy')\n",
    "    else:\n",
    "        if not dense_feature_list_train:\n",
    "            dense_feature_list_train = [compute_dsift(pic,stride,size) for pic in feature_train]\n",
    "        feature_train = [compute_bow(img,vocab) for img in dense_feature_list_train]\n",
    "        np.save('feature_train.npy', feature_train)\n",
    "        \n",
    "    if os.path.exists('./feature_test.npy'):\n",
    "        feature_test = np.load('./feature_test.npy')\n",
    "    else:\n",
    "        if not dense_feature_list_test:\n",
    "            dense_feature_list_test = [compute_dsift(pic,stride,size) for pic in feature_test]\n",
    "        feature_test = [compute_bow(img,vocab) for img in dense_feature_list_test]\n",
    "        np.save('feature_test.npy', feature_test) \n",
    "\n",
    "    ## Precictions\n",
    "    preds = predict_knn(feature_train, label_train_list, feature_test, k=1)\n",
    "    accuracy = sum(preds == np.array(label_test_list)) / len(label_test_list)\n",
    "\n",
    "    labels_ = dict(zip(range(len(np.unique(label_test_list))), np.unique(label_test_list)))\n",
    "    labels_inv = {v: k for k, v in labels_.items()}\n",
    "    confusion = np.zeros((len(label_classes),len(label_classes)))\n",
    "    for i,lab in enumerate(label_test_list):\n",
    "        i_ = labels_inv[label_test_list[i]]\n",
    "        j_ = labels_inv[preds[i]]\n",
    "        confusion[i_][j_] += 1\n",
    "    \n",
    "    visualize_confusion_matrix(confusion, accuracy, label_classes)\n",
    "    return confusion, accuracy"
   ]
  },
  {
   "cell_type": "code",
   "execution_count": 33,
   "id": "467cdf15",
   "metadata": {},
   "outputs": [
    {
     "data": {
      "image/png": "[encoded data removed]",
      "text/plain": [
       "<Figure size 432x288 with 1 Axes>"
      ]
     },
     "metadata": {
      "needs_background": "light"
     },
     "output_type": "display_data"
    },
    {
     "name": "stdout",
     "output_type": "stream",
     "text": [
      "99.3513674736023\n"
     ]
    }
   ],
   "source": [
    "st = t.time()\n",
    "classify_knn_bow(label_classes, label_train_list, img_train_list, label_test_list, img_test_list)\n",
    "end = t.time()\n",
    "print(end-st)"
   ]
  },
  {
   "cell_type": "markdown",
   "id": "3f73da60",
   "metadata": {},
   "source": [
    "## Classify SVM Bow"
   ]
  },
  {
   "cell_type": "code",
   "execution_count": 17,
   "id": "68d757ae",
   "metadata": {
    "scrolled": false
   },
   "outputs": [
    {
     "name": "stdout",
     "output_type": "stream",
     "text": [
      "Classes: ['Kitchen', 'Store', 'Bedroom', 'LivingRoom', 'Office', 'Industrial', 'Suburb', 'InsideCity', 'TallBuilding', 'Street', 'Highway', 'OpenCountry', 'Coast', 'Mountain', 'Forest']\n"
     ]
    }
   ],
   "source": [
    "label_classes, label_train_list, img_train_list, label_test_list, img_test_list = extract_dataset_info('')"
   ]
  },
  {
   "cell_type": "code",
   "execution_count": 18,
   "id": "2af2b4b6",
   "metadata": {},
   "outputs": [],
   "source": [
    "feature_train = [cv2.imread(path,0) for path in img_train_list]\n",
    "feature_test = [cv2.imread(path,0) for path in img_test_list]\n",
    "\n",
    "stride,size = 15,15\n",
    "dic_size=64\n",
    "dense_feature_list_train = None\n",
    "dense_feature_list_test = None\n",
    "\n",
    "if os.path.exists('./vocab.npy'):\n",
    "    vocab = np.load('./vocab.npy')\n",
    "else:\n",
    "    dense_feature_list_train = [compute_dsift(pic,stride,size) for pic in feature_train]\n",
    "    vocab = build_visual_dictionary(dense_feature_list_train, dic_size)\n",
    "    np.save('vocab.npy', vocab)\n",
    "\n",
    "if os.path.exists('./feature_train.npy'):\n",
    "    feature_train = np.load('./feature_train.npy')\n",
    "else:\n",
    "    if not dense_feature_list_train:\n",
    "        dense_feature_list_train = [compute_dsift(pic,stride,size) for pic in feature_train]\n",
    "    feature_train = [compute_bow(img,vocab) for img in dense_feature_list_train]\n",
    "    np.save('feature_train.npy', feature_train)\n",
    "\n",
    "if os.path.exists('./feature_test.npy'):\n",
    "    feature_test = np.load('./feature_test.npy')\n",
    "else:\n",
    "    if not dense_feature_list_test:\n",
    "        dense_feature_list_test = [compute_dsift(pic,stride,size) for pic in feature_test]\n",
    "    feature_test = [compute_bow(img,vocab) for img in dense_feature_list_test]\n",
    "    np.save('feature_test.npy', feature_test) "
   ]
  },
  {
   "cell_type": "code",
   "execution_count": 19,
   "id": "ff2c599e",
   "metadata": {},
   "outputs": [],
   "source": [
    "label_train = label_train_list"
   ]
  },
  {
   "cell_type": "code",
   "execution_count": 232,
   "id": "6aea0f18",
   "metadata": {
    "scrolled": true
   },
   "outputs": [],
   "source": [
    "def predict_svm(feature_train, label_train, feature_test, n_classes):\n",
    "    classes = np.unique(label_train)\n",
    "    models = []\n",
    "    label_train = np.array(label_train)\n",
    "    for clas in classes:\n",
    "        svm = LinearSVC(\n",
    "                   dual=False,\n",
    "                   C=150,\n",
    "                   max_iter=40000,\n",
    "                   )\n",
    "        class_idxs = np.argwhere(np.where(np.array(label_train) == clas,1,0)).flatten()\n",
    "        class_features = feature_train[class_idxs]\n",
    "        class_labels = label_train[class_idxs]\n",
    "        non_features = feature_train[np.argwhere(np.where(np.array(label_train) != clas,1,0)).flatten()]\n",
    "        non_labels = np.array(['not' for i in range(non_features.shape[0])])\n",
    "\n",
    "        features = np.concatenate((class_features,non_features))\n",
    "        labels = np.concatenate((class_labels,non_labels))\n",
    "\n",
    "        svm.fit(features,labels)\n",
    "        models.append(svm)\n",
    "\n",
    "    preds = []\n",
    "    for point in feature_test:\n",
    "        scores = []\n",
    "        for model in enumerate(models):\n",
    "            scores.append(model[1].decision_function(point.reshape(1, -1)))\n",
    "        preds.append(classes[np.argmin(scores)])\n",
    "\n",
    "    label_test_pred = preds\n",
    "\n",
    "    return label_test_pred\n"
   ]
  },
  {
   "cell_type": "code",
   "execution_count": 233,
   "id": "a6ec296e",
   "metadata": {},
   "outputs": [
    {
     "name": "stdout",
     "output_type": "stream",
     "text": [
      "0.6493333333333333\n"
     ]
    }
   ],
   "source": [
    "preds = predict_svm(feature_train, label_train, feature_test, 2)\n",
    "print(sum(np.array(preds) == label_test_list) / len(preds))"
   ]
  },
  {
   "cell_type": "code",
   "execution_count": 253,
   "id": "6d5ac789",
   "metadata": {},
   "outputs": [],
   "source": [
    "def classify_svm_bow(label_classes, label_train_list, img_train_list, label_test_list, img_test_list):\n",
    "    feature_train = [cv2.imread(path,0) for path in img_train_list]\n",
    "    feature_test = [cv2.imread(path,0) for path in img_test_list]\n",
    "\n",
    "    stride,size = 15,15\n",
    "    dic_size=64\n",
    "    dense_feature_list_train = None\n",
    "    dense_feature_list_test = None\n",
    "\n",
    "    if os.path.exists('./vocab.npy'):\n",
    "        vocab = np.load('./vocab.npy')\n",
    "    else:\n",
    "        dense_feature_list_train = [compute_dsift(pic,stride,size) for pic in feature_train]\n",
    "        vocab = build_visual_dictionary(dense_feature_list_train, dic_size)\n",
    "        np.save('vocab.npy', vocab)\n",
    "\n",
    "    if os.path.exists('./feature_train.npy'):\n",
    "        feature_train = np.load('./feature_train.npy')\n",
    "    else:\n",
    "        if not dense_feature_list_train:\n",
    "            dense_feature_list_train = [compute_dsift(pic,stride,size) for pic in feature_train]\n",
    "        feature_train = [compute_bow(img,vocab) for img in dense_feature_list_train]\n",
    "        np.save('feature_train.npy', feature_train)\n",
    "\n",
    "    if os.path.exists('./feature_test.npy'):\n",
    "        feature_test = np.load('./feature_test.npy')\n",
    "    else:\n",
    "        if not dense_feature_list_test:\n",
    "            dense_feature_list_test = [compute_dsift(pic,stride,size) for pic in feature_test]\n",
    "        feature_test = [compute_bow(img,vocab) for img in dense_feature_list_test]\n",
    "        np.save('feature_test.npy', feature_test) \n",
    "        \n",
    "    preds = predict_svm(feature_train, label_train_list, feature_test, 2)\n",
    "    accuracy = sum(np.array(preds) == label_test_list) / len(preds)\n",
    "    \n",
    "    labels_ = dict(zip(range(len(np.unique(label_test_list))), np.unique(label_test_list)))\n",
    "    labels_inv = {v: k for k, v in labels_.items()}\n",
    "    confusion = np.zeros((len(label_classes),len(label_classes)))\n",
    "    for i,lab in enumerate(label_test_list):\n",
    "        i_ = labels_inv[label_test_list[i]]\n",
    "        j_ = labels_inv[preds[i]]\n",
    "        confusion[i_][j_] += 1\n",
    "        \n",
    "    visualize_confusion_matrix(confusion, accuracy, label_classes)\n",
    "    return confusion, accuracy"
   ]
  },
  {
   "cell_type": "code",
   "execution_count": 254,
   "id": "922d4b90",
   "metadata": {},
   "outputs": [
    {
     "data": {
      "image/png": "[encoded data removed]",
      "text/plain": [
       "<Figure size 432x288 with 1 Axes>"
      ]
     },
     "metadata": {
      "needs_background": "light"
     },
     "output_type": "display_data"
    },
    {
     "data": {
      "text/plain": [
       "(array([[53.,  0.,  0.,  0.,  4.,  2.,  9., 11.,  1.,  9.,  2.,  1.,  1.,\n",
       "          3.,  4.],\n",
       "        [ 0., 67.,  0., 11.,  0.,  1.,  0.,  0.,  2.,  1., 16.,  1.,  0.,\n",
       "          1.,  0.],\n",
       "        [ 0.,  0., 93.,  0.,  0.,  0.,  0.,  0.,  4.,  0.,  1.,  1.,  0.,\n",
       "          0.,  1.],\n",
       "        [ 0.,  4.,  0., 77.,  1.,  3.,  1.,  1.,  4.,  0.,  5.,  1.,  1.,\n",
       "          1.,  1.],\n",
       "        [ 6.,  3.,  0.,  2., 28.,  5.,  4.,  6.,  2.,  8.,  7., 10.,  4.,\n",
       "          7.,  8.],\n",
       "        [ 2.,  1.,  0.,  1.,  3., 64.,  3.,  3.,  0.,  5.,  3.,  4.,  3.,\n",
       "          0.,  8.],\n",
       "        [12.,  0.,  0.,  1.,  3.,  4., 49., 10.,  1.,  5.,  0.,  4.,  1.,\n",
       "          4.,  6.],\n",
       "        [17.,  0.,  1.,  0.,  3.,  2., 10., 47.,  0.,  8.,  0.,  7.,  3.,\n",
       "          0.,  2.],\n",
       "        [ 3.,  2.,  1.,  5.,  0.,  0.,  0.,  0., 75.,  0., 11.,  2.,  0.,\n",
       "          0.,  1.],\n",
       "        [ 6.,  1.,  0.,  0.,  7.,  2.,  5.,  7.,  0., 63.,  0.,  0.,  0.,\n",
       "          7.,  2.],\n",
       "        [ 1., 12.,  3.,  2.,  3.,  0.,  0.,  1.,  8.,  1., 66.,  1.,  0.,\n",
       "          2.,  0.],\n",
       "        [ 1.,  1., 10.,  2.,  7.,  9.,  2.,  2.,  2.,  2.,  2., 54.,  1.,\n",
       "          2.,  3.],\n",
       "        [ 0.,  0.,  1.,  3.,  2.,  9.,  0.,  1.,  1.,  1.,  0.,  1., 76.,\n",
       "          1.,  4.],\n",
       "        [ 1.,  0.,  0.,  1.,  2.,  3.,  0.,  2.,  0.,  1.,  0.,  3.,  1.,\n",
       "         86.,  0.],\n",
       "        [ 3.,  2.,  3.,  0.,  7.,  2.,  0.,  0.,  2.,  1.,  0.,  1.,  3.,\n",
       "          0., 76.]]),\n",
       " 0.6493333333333333)"
      ]
     },
     "execution_count": 254,
     "metadata": {},
     "output_type": "execute_result"
    }
   ],
   "source": [
    "classify_svm_bow(label_classes, label_train_list, img_train_list, label_test_list, img_test_list)"
   ]
  },
  {
   "cell_type": "code",
   "execution_count": null,
   "id": "6c4a9fcb",
   "metadata": {},
   "outputs": [],
   "source": []
  }
 ],
 "metadata": {
  "kernelspec": {
   "display_name": "Python 3",
   "language": "python",
   "name": "python3"
  },
  "language_info": {
   "codemirror_mode": {
    "name": "ipython",
    "version": 3
   },
   "file_extension": ".py",
   "mimetype": "text/x-python",
   "name": "python",
   "nbconvert_exporter": "python",
   "pygments_lexer": "ipython3",
   "version": "3.6.13"
  }
 },
 "nbformat": 4,
 "nbformat_minor": 5
}
